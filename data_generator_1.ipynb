{
 "cells": [
  {
   "cell_type": "markdown",
   "metadata": {},
   "source": [
    "\"weather_1.csv\""
   ]
  },
  {
   "cell_type": "code",
   "execution_count": 14,
   "metadata": {},
   "outputs": [],
   "source": [
    "import csv\n",
    "import random\n",
    "\n",
    "# Function to generate random day and geography\n",
    "def generate_random_data():\n",
    "    days = [\"Monday\", \"Tuesday\", \"Wednesday\", \"Thursday\", \"Friday\", \"Saturday\", \"Sunday\"]\n",
    "    geographies = [\"Sydney\", \"Tokyo\", \"Brazil\", \"Germany\", \"USA\", \"UK\", \"China\"]\n",
    "    return {\n",
    "        \"temperature (Celsius)\": random.randint(0, 50),\n",
    "        \"rainfall (mm)\": random.randint(0, 100),\n",
    "        \"days\": random.choice(days),\n",
    "        \"geography\": random.choice(geographies),\n",
    "    }\n",
    "\n",
    "# Define the number of rows for the CSV file\n",
    "num_rows = 200\n",
    "\n",
    "# Define column headers\n",
    "headers = [\"temperature (Celsius)\", \"rainfall (mm)\", \"days\", \"geography\"]\n",
    "\n",
    "# Generate data and write to CSV file\n",
    "with open('weather_1.csv', 'w', newline='') as file:\n",
    "    writer = csv.DictWriter(file, fieldnames=headers)\n",
    "    writer.writeheader()\n",
    "    for _ in range(num_rows):\n",
    "        data = generate_random_data()\n",
    "        writer.writerow(data)\n"
   ]
  },
  {
   "cell_type": "markdown",
   "metadata": {},
   "source": [
    "\"business_performance_1.csv\""
   ]
  },
  {
   "cell_type": "code",
   "execution_count": 10,
   "metadata": {},
   "outputs": [],
   "source": [
    "business_entities = [\"Beverages\", \"Bottling\", \"Packaging\", \"Logistics\", \"Marketing\", \"Distribution\", \"R&D\"]\n",
    "\n",
    "with open(\"business_performance_1.csv\", \"w\", newline=\"\") as f:\n",
    "    writer = csv.writer(f)\n",
    "    writer.writerow([\"value_sales\", \"volume_sales\", \"business_entity\", \"geography\"])\n",
    "    for i in range(200):\n",
    "        writer.writerow([\n",
    "            random.randint(1000000, 3000000),\n",
    "            random.randint(10000, 30000),\n",
    "            random.choice(business_entities),\n",
    "            random.choice([\"Sydney\", \"Tokyo\", \"Brazil\", \"Germany\", \"USA\", \"UK\", \"China\"])\n",
    "        ])\n"
   ]
  },
  {
   "cell_type": "markdown",
   "metadata": {},
   "source": [
    "\"Macro_1.csv\""
   ]
  },
  {
   "cell_type": "code",
   "execution_count": 11,
   "metadata": {},
   "outputs": [],
   "source": [
    "# Create a list of random values for state GDP\n",
    "state_gdp = [random.randint(100000000, 1000000000) for i in range(200)]\n",
    "\n",
    "# Create a list of random values for population\n",
    "population = [random.randint(int(state_gdp[i]*0.5), int(state_gdp[i]*2)) for i in range(200)]\n",
    "\n",
    "# Create a list of random values for per capita consumption of beverages\n",
    "per_capita_consumption_of_beverages = [random.randint(10, 100) for i in range(200)]\n",
    "\n",
    "# Create a new CSV file and write the data to it\n",
    "with open(\"macro_1.csv\", \"w\", newline=\"\") as f:\n",
    "    writer = csv.writer(f)\n",
    "    writer.writerow([\"state_gdp($_million_(USD))\", \"population\", \"pcc_category\"])\n",
    "    for i in range(200):\n",
    "        writer.writerow([state_gdp[i], population[i], per_capita_consumption_of_beverages[i]])"
   ]
  },
  {
   "cell_type": "markdown",
   "metadata": {},
   "source": [
    "\"media_1.csv\""
   ]
  },
  {
   "cell_type": "code",
   "execution_count": 18,
   "metadata": {},
   "outputs": [],
   "source": [
    "import csv\n",
    "import random\n",
    "\n",
    "# Function to generate random day and geography\n",
    "def generate_random_data():\n",
    "    days = [\"Monday\", \"Tuesday\", \"Wednesday\", \"Thursday\", \"Friday\", \"Saturday\", \"Sunday\"]\n",
    "    geography = [\"Sydney\", \"Tokyo\", \"Brazil\", \"Germany\", \"USA\", \"UK\", \"China\"]\n",
    "    platform = [\"Youtube\", \"Twitter\", \"Facebook\", \"Instagram\"]\n",
    "    return {\n",
    "        \"spend($)\": random.randint(100000, 500000),\n",
    "        \"platform\": random.choice(platform),\n",
    "        \"days\": random.choice(days),\n",
    "        \"geography\": random.choice(geography),\n",
    "    }\n",
    "\n",
    "# Define the number of rows for the CSV file\n",
    "num_rows = 200\n",
    "\n",
    "# Define column headers\n",
    "headers = [\"spend($)\", \"platform\", \"days\", \"geography\"]\n",
    "\n",
    "# Generate data and write to CSV file\n",
    "with open('media_1.csv', 'w', newline='') as file:\n",
    "    writer = csv.DictWriter(file, fieldnames=headers)\n",
    "    writer.writeheader()\n",
    "    for _ in range(num_rows):\n",
    "        data = generate_random_data()\n",
    "        writer.writerow(data)"
   ]
  },
  {
   "cell_type": "code",
   "execution_count": 15,
   "metadata": {},
   "outputs": [],
   "source": [
    "import pandas as pd\n",
    "df = pd.read_csv(\"media.csv\")\n"
   ]
  },
  {
   "cell_type": "code",
   "execution_count": 16,
   "metadata": {},
   "outputs": [
    {
     "name": "stdout",
     "output_type": "stream",
     "text": [
      "108724\n",
      "299513\n"
     ]
    }
   ],
   "source": [
    "min_value = df[\"spend\"].min()\n",
    "max_value = df[\"spend\"].max()\n",
    "\n",
    "print(min_value)\n",
    "print(max_value)"
   ]
  },
  {
   "cell_type": "code",
   "execution_count": 2,
   "metadata": {},
   "outputs": [],
   "source": [
    "import pandas as pd\n",
    "df_weather = pd.read_csv(\"weather_1.csv\")\n",
    "df_macro = pd.read_csv(\"macro_1.csv\")\n",
    "df_media = pd.read_csv(\"media_1.csv\")\n",
    "df_business = pd.read_csv(\"business_performance_1.csv\")"
   ]
  },
  {
   "cell_type": "code",
   "execution_count": 5,
   "metadata": {},
   "outputs": [
    {
     "name": "stdout",
     "output_type": "stream",
     "text": [
      "Index(['temperature (Celsius)', 'rainfall (mm)', 'days', 'geography'], dtype='object')\n",
      "Index(['state_gdp($_million_(USD))', 'population', 'pcc_category'], dtype='object')\n",
      "Index(['spend($)', 'platform', 'days', 'geography'], dtype='object')\n",
      "Index(['value_sales', 'volume_sales', 'business_entity', 'geography'], dtype='object')\n"
     ]
    }
   ],
   "source": [
    "print(df_weather.columns)\n",
    "print(df_macro.columns)\n",
    "print(df_media.columns)\n",
    "print(df_business.columns)"
   ]
  },
  {
   "cell_type": "code",
   "execution_count": 9,
   "metadata": {},
   "outputs": [
    {
     "name": "stdout",
     "output_type": "stream",
     "text": [
      "Duplicate columns:  [False False False False False False False False False False  True False\n",
      " False  True  True]\n"
     ]
    }
   ],
   "source": [
    "import pandas as pd \n",
    "macro_data = pd.read_csv(\"macro_1.csv\")\n",
    "weather_data = pd.read_csv(\"weather_1.csv\")\n",
    "business_performance_data = pd.read_csv(\"business_performance_1.csv\")\n",
    "media_data = pd.read_csv(\"media_1.csv\")\n",
    "\n",
    "# Combine all CSV data into a single DataFrame\n",
    "data = pd.concat([macro_data, weather_data, business_performance_data, media_data], axis = 1)\n",
    "duplicate_columns = data.columns.duplicated()\n",
    "print(\"Duplicate columns: \", duplicate_columns)"
   ]
  },
  {
   "cell_type": "code",
   "execution_count": 12,
   "metadata": {},
   "outputs": [],
   "source": [
    "data = data.loc[:, ~duplicate_columns]"
   ]
  },
  {
   "cell_type": "code",
   "execution_count": 13,
   "metadata": {},
   "outputs": [
    {
     "name": "stdout",
     "output_type": "stream",
     "text": [
      "Columns before duplication: \n"
     ]
    },
    {
     "data": {
      "text/plain": [
       "Index(['state_gdp($_million_(USD))', 'population', 'pcc_category',\n",
       "       'temperature (Celsius)', 'rainfall (mm)', 'days', 'geography',\n",
       "       'value_sales', 'volume_sales', 'business_entity', 'spend($)',\n",
       "       'platform'],\n",
       "      dtype='object')"
      ]
     },
     "execution_count": 13,
     "metadata": {},
     "output_type": "execute_result"
    }
   ],
   "source": [
    "print(\"Columns before duplication: \")\n",
    "data.columns"
   ]
  },
  {
   "cell_type": "code",
   "execution_count": 14,
   "metadata": {},
   "outputs": [
    {
     "name": "stdout",
     "output_type": "stream",
     "text": [
      "Columns after removing duplication: \n",
      "Index(['state_gdp($_million_(USD))', 'population', 'pcc_category',\n",
      "       'temperature (Celsius)', 'rainfall (mm)', 'days', 'geography',\n",
      "       'value_sales', 'volume_sales', 'business_entity', 'spend($)',\n",
      "       'platform'],\n",
      "      dtype='object')\n"
     ]
    }
   ],
   "source": [
    "print(\"Columns after removing duplication: \")\n",
    "print(data.columns)"
   ]
  },
  {
   "cell_type": "code",
   "execution_count": 15,
   "metadata": {},
   "outputs": [
    {
     "data": {
      "text/html": [
       "<div>\n",
       "<style scoped>\n",
       "    .dataframe tbody tr th:only-of-type {\n",
       "        vertical-align: middle;\n",
       "    }\n",
       "\n",
       "    .dataframe tbody tr th {\n",
       "        vertical-align: top;\n",
       "    }\n",
       "\n",
       "    .dataframe thead th {\n",
       "        text-align: right;\n",
       "    }\n",
       "</style>\n",
       "<table border=\"1\" class=\"dataframe\">\n",
       "  <thead>\n",
       "    <tr style=\"text-align: right;\">\n",
       "      <th></th>\n",
       "      <th>state_gdp($_million_(USD))</th>\n",
       "      <th>population</th>\n",
       "      <th>pcc_category</th>\n",
       "      <th>temperature (Celsius)</th>\n",
       "      <th>rainfall (mm)</th>\n",
       "      <th>days</th>\n",
       "      <th>geography</th>\n",
       "      <th>value_sales</th>\n",
       "      <th>volume_sales</th>\n",
       "      <th>business_entity</th>\n",
       "      <th>spend($)</th>\n",
       "      <th>platform</th>\n",
       "    </tr>\n",
       "  </thead>\n",
       "  <tbody>\n",
       "    <tr>\n",
       "      <th>0</th>\n",
       "      <td>544750191</td>\n",
       "      <td>591811480</td>\n",
       "      <td>51</td>\n",
       "      <td>23</td>\n",
       "      <td>86</td>\n",
       "      <td>Tuesday</td>\n",
       "      <td>UK</td>\n",
       "      <td>1633981</td>\n",
       "      <td>19407</td>\n",
       "      <td>Marketing</td>\n",
       "      <td>223748</td>\n",
       "      <td>Facebook</td>\n",
       "    </tr>\n",
       "    <tr>\n",
       "      <th>1</th>\n",
       "      <td>637014400</td>\n",
       "      <td>441380566</td>\n",
       "      <td>87</td>\n",
       "      <td>16</td>\n",
       "      <td>35</td>\n",
       "      <td>Monday</td>\n",
       "      <td>Tokyo</td>\n",
       "      <td>2581773</td>\n",
       "      <td>10539</td>\n",
       "      <td>Distribution</td>\n",
       "      <td>103999</td>\n",
       "      <td>Facebook</td>\n",
       "    </tr>\n",
       "    <tr>\n",
       "      <th>2</th>\n",
       "      <td>325528022</td>\n",
       "      <td>565349330</td>\n",
       "      <td>23</td>\n",
       "      <td>44</td>\n",
       "      <td>95</td>\n",
       "      <td>Thursday</td>\n",
       "      <td>UK</td>\n",
       "      <td>1681836</td>\n",
       "      <td>18202</td>\n",
       "      <td>Packaging</td>\n",
       "      <td>400527</td>\n",
       "      <td>Youtube</td>\n",
       "    </tr>\n",
       "    <tr>\n",
       "      <th>3</th>\n",
       "      <td>933856310</td>\n",
       "      <td>1560448623</td>\n",
       "      <td>41</td>\n",
       "      <td>37</td>\n",
       "      <td>55</td>\n",
       "      <td>Monday</td>\n",
       "      <td>USA</td>\n",
       "      <td>1047423</td>\n",
       "      <td>26182</td>\n",
       "      <td>Marketing</td>\n",
       "      <td>299353</td>\n",
       "      <td>Youtube</td>\n",
       "    </tr>\n",
       "    <tr>\n",
       "      <th>4</th>\n",
       "      <td>645465225</td>\n",
       "      <td>791370695</td>\n",
       "      <td>14</td>\n",
       "      <td>2</td>\n",
       "      <td>36</td>\n",
       "      <td>Friday</td>\n",
       "      <td>Sydney</td>\n",
       "      <td>2069021</td>\n",
       "      <td>17501</td>\n",
       "      <td>Bottling</td>\n",
       "      <td>309521</td>\n",
       "      <td>Twitter</td>\n",
       "    </tr>\n",
       "  </tbody>\n",
       "</table>\n",
       "</div>"
      ],
      "text/plain": [
       "   state_gdp($_million_(USD))  population  pcc_category  \\\n",
       "0                   544750191   591811480            51   \n",
       "1                   637014400   441380566            87   \n",
       "2                   325528022   565349330            23   \n",
       "3                   933856310  1560448623            41   \n",
       "4                   645465225   791370695            14   \n",
       "\n",
       "   temperature (Celsius)  rainfall (mm)      days geography  value_sales  \\\n",
       "0                     23             86   Tuesday        UK      1633981   \n",
       "1                     16             35    Monday     Tokyo      2581773   \n",
       "2                     44             95  Thursday        UK      1681836   \n",
       "3                     37             55    Monday       USA      1047423   \n",
       "4                      2             36    Friday    Sydney      2069021   \n",
       "\n",
       "   volume_sales business_entity  spend($)  platform  \n",
       "0         19407       Marketing    223748  Facebook  \n",
       "1         10539    Distribution    103999  Facebook  \n",
       "2         18202       Packaging    400527   Youtube  \n",
       "3         26182       Marketing    299353   Youtube  \n",
       "4         17501        Bottling    309521   Twitter  "
      ]
     },
     "execution_count": 15,
     "metadata": {},
     "output_type": "execute_result"
    }
   ],
   "source": [
    "data.head(5)"
   ]
  },
  {
   "cell_type": "code",
   "execution_count": null,
   "metadata": {},
   "outputs": [],
   "source": []
  }
 ],
 "metadata": {
  "kernelspec": {
   "display_name": "base",
   "language": "python",
   "name": "python3"
  },
  "language_info": {
   "codemirror_mode": {
    "name": "ipython",
    "version": 3
   },
   "file_extension": ".py",
   "mimetype": "text/x-python",
   "name": "python",
   "nbconvert_exporter": "python",
   "pygments_lexer": "ipython3",
   "version": "3.11.5"
  }
 },
 "nbformat": 4,
 "nbformat_minor": 2
}
